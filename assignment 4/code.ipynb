{
 "cells": [
  {
   "cell_type": "markdown",
   "metadata": {},
   "source": [
    "# Deep Learning Course\n",
    "\n",
    "## Assignment Four \n",
    "\n",
    "\n",
    "### Assignment Goals:\n",
    "\n",
    "* Implementing Fully Connected AutoEncoders\n",
    "\n",
    "* Implement naive generative model\n",
    "\n",
    "* Understand VAE and GAN, then implement a classical generative model: VAE-GAN. \n",
    "\n",
    "\n",
    "\n",
    "### DataSet\n",
    "\n",
    "In this Assignment, you will use the Fashion-MNIST dataset. The dataset is not given in the assignment package, please download/load by yourself. *Hint*: You can use  \n",
    "```python\n",
    "(x_train, _), (x_test, _)  = keras.datasets.fashion_mnist.load_data() \n",
    "```\n",
    "to load the dataset.\n"
   ]
  },
  {
   "attachments": {},
   "cell_type": "markdown",
   "metadata": {},
   "source": [
    "### Requirements\n",
    "\n",
    "\n",
    "1. **(20 points) Implement a Fully Connected AutoEncoder** \n",
    "\n",
    "    * Your AutoEncoder should have a bottleneck with two neurons and use Mean Squared Error (MSE) as the objective function. Design the model structure by yourself. Notice that in an AutoEncoder, the layer with the least number of neurons is referred to as a bottleneck. \n",
    "\n",
    "    * Train your model on MNIST. Plot the train and test loss. \n",
    "\n",
    "    * Randomly select 10 images from the test set, encode the selected 10 images, visualize the original images and the decoded images.\n",
    "\n",
    "\n",
    "2. **(30 points) Naive generative model**\n",
    "\n",
    "    This question is about using an AutoEncoder to generate similar but not identical hand digits. We use a naive approach: Try to see if a trained decoder can map randomly generated inputs (random numbers) to a recognizable hand-written digit. \n",
    "    \n",
    "    1. Start with your Fully Connected AutoEncoder from part 1. Try to generate new images by inputting some random numbers to the decoder (i.e. the bottleneck layer). Visualize 10 generated images. (10 points)\n",
    "    \n",
    "    2. Now restrict each neuron of the bottleneck layer to have a distribution with mean zeroes and variance one (i.e. $N(0, 1)$). Retrain the Fully Connected AutoEncoder with the normalized bottleneck. Now randomly generate inputs to the bottleneck layer that are drawn from the multi-variate standard normal distribution, and use the randomly generated inputs to generate new images. Visualize 10 generated images. (15 points)\n",
    "    \n",
    "    3. Are the output images different between A) and B)? If so, why do you think this difference occurs? (5 points)\n",
    "\n",
    "\n",
    "3. **(50 points) Advanced generative model**\n",
    "\n",
    "    In this part, you are asking to implement a VAE-GAN model. A VAE-GAN is a Generative Adversarial Network whose generator is an Variational Autoencoder.Here is the paper which proposed the VAE-GAN: [**[PAPER]**](https://arxiv.org/pdf/1512.09300.pdf ). You may need to read this paper before implementing this model. \n",
    "\n",
    "    1. Implement a Variational Autoencoder based on your Fully Connected AutoEncoder from part 1. Use your VAE to randomly generate 10 images. Does the VAE produce a different quality of output image? (30 points)\n",
    "\n",
    "    2. Implement a VAE-GAN based on your implemented VAE. Train the VAE-GAN. (20 points)\n",
    "      * Then use your VAE-GAN to randomly generate 10 images from $p(z)$. \n",
    "      * Randomly select 10 images from the test dataset and reconstruct them using your model, then visualize the original and reconstructed images. \n",
    "      \n",
    "        *Hint:* For the generation and reconstruction tasks, refer to Section 4.1 in the paper.\n"
   ]
  },
  {
   "cell_type": "markdown",
   "metadata": {},
   "source": [
    "### Submission Notes:\n",
    "\n",
    "Please use Jupyter Notebook. The notebook should include the final code, results, and answers. You should submit your Notebook in .pdf and .ipynb format. (penalty 10 points).\n",
    "\n",
    "Notice that your AutoEncoders should have only one bottleneck.\n",
    "\n",
    "\n",
    "**Instructions**:\n",
    "\n",
    "The university policy on academic dishonesty and plagiarism (cheating) will be taken very seriously in this course. Everything submitted should be your writing or coding. You must not let other students copy your work. Spelling and grammar count.\n",
    "\n",
    "\n",
    "\n"
   ]
  },
  {
   "cell_type": "markdown",
   "metadata": {},
   "source": [
    "## Your implementation"
   ]
  },
  {
   "cell_type": "markdown",
   "metadata": {},
   "source": [
    "### Import Dependencies"
   ]
  },
  {
   "cell_type": "code",
   "execution_count": 1,
   "metadata": {},
   "outputs": [
    {
     "name": "stderr",
     "output_type": "stream",
     "text": [
      "c:\\Users\\mikew\\miniconda3\\Lib\\site-packages\\tqdm\\auto.py:21: TqdmWarning: IProgress not found. Please update jupyter and ipywidgets. See https://ipywidgets.readthedocs.io/en/stable/user_install.html\n",
      "  from .autonotebook import tqdm as notebook_tqdm\n"
     ]
    }
   ],
   "source": [
    "# import dependencies\n",
    "import torch\n",
    "import torch.nn as nn\n",
    "import torch.optim as optim\n",
    "import torchvision\n",
    "import torchvision.transforms as transforms\n",
    "import matplotlib.pyplot as plt\n",
    "from torch.utils.data import DataLoader\n",
    "import torch.nn.functional as F\n",
    "from tqdm import tqdm\n",
    "import random\n",
    "import numpy as np"
   ]
  },
  {
   "cell_type": "markdown",
   "metadata": {},
   "source": [
    "### hyperparameters"
   ]
  },
  {
   "cell_type": "code",
   "execution_count": 2,
   "metadata": {},
   "outputs": [
    {
     "name": "stdout",
     "output_type": "stream",
     "text": [
      "you are training on:  cuda\n"
     ]
    }
   ],
   "source": [
    "# hyperparameters: \n",
    "\n",
    "epochs = 10\n",
    "lr = 1e-3\n",
    "batch_size = 32\n",
    "bottleneck_num = 2\n",
    "device = torch.device('cuda' if torch.cuda.is_available() else 'cpu')\n",
    "print('you are training on: ', device)"
   ]
  },
  {
   "cell_type": "code",
   "execution_count": 3,
   "metadata": {},
   "outputs": [],
   "source": [
    "bottleneck_num = 2\n",
    "img_num = 10"
   ]
  },
  {
   "cell_type": "markdown",
   "metadata": {},
   "source": [
    "### dataloader"
   ]
  },
  {
   "cell_type": "code",
   "execution_count": 4,
   "metadata": {},
   "outputs": [],
   "source": [
    "# download dataset\n",
    "transform = transforms.Compose([\n",
    "    transforms.ToTensor()\n",
    "])\n",
    "\n",
    "trainset = torchvision.datasets.FashionMNIST(root='./data', train=True, download=True, transform=transform)\n",
    "trainloader = DataLoader(trainset, batch_size=batch_size, shuffle=True)\n",
    "\n",
    "testset = torchvision.datasets.FashionMNIST(root='./data', train=False, download=True, transform=transform)\n",
    "testloader = DataLoader(testset, batch_size=batch_size, shuffle=False)"
   ]
  },
  {
   "cell_type": "code",
   "execution_count": 5,
   "metadata": {},
   "outputs": [
    {
     "name": "stdout",
     "output_type": "stream",
     "text": [
      "torch.Size([32, 1, 28, 28])\n",
      "tensor(6)\n"
     ]
    }
   ],
   "source": [
    "# test\n",
    "for images, labels in trainloader:\n",
    "    print(images.shape)\n",
    "    for label in labels:\n",
    "        print(label)\n",
    "        break\n",
    "    break"
   ]
  },
  {
   "cell_type": "markdown",
   "metadata": {},
   "source": [
    "### helper functions"
   ]
  },
  {
   "cell_type": "code",
   "execution_count": 5,
   "metadata": {},
   "outputs": [],
   "source": [
    "def plot_loss(losses, name = None):\n",
    "    plt.plot(losses)\n",
    "    plt.xlabel('epoch')\n",
    "    plt.ylabel('loss')\n",
    "    plt.title(name + ' loss graph')\n",
    "    plt.show()\n",
    "    "
   ]
  },
  {
   "cell_type": "code",
   "execution_count": 45,
   "metadata": {},
   "outputs": [],
   "source": [
    "def generate_nums(num = 10):\n",
    "    rand_input = np.random.randn(num,bottleneck_num)\n",
    "    return rand_input"
   ]
  },
  {
   "cell_type": "code",
   "execution_count": 46,
   "metadata": {},
   "outputs": [],
   "source": [
    "def plot_images(images, num_img = 10):\n",
    "    fig, axs = plt.subplots(1,num_img, figsize = (20,4))\n",
    "    for i in range(num_img):\n",
    "        # print(images[i].shape)\n",
    "        img = images[i].to('cpu')\n",
    "        img = img.detach().numpy()\n",
    "        axs[i].imshow(img.squeeze(0), cmap = 'gray')\n",
    "        # axs[i].set_title('Image ', i)"
   ]
  },
  {
   "cell_type": "code",
   "execution_count": 33,
   "metadata": {},
   "outputs": [],
   "source": [
    "# train\n",
    "def train(model, loss_fn, optimizer, num_epochs , trainloader, testloader):\n",
    "    train_losses = []\n",
    "    valid_losses = []\n",
    "    \n",
    "    for epoch in range(num_epochs):\n",
    "        model.train()\n",
    "        total_loss = 0\n",
    "        for images, _ in tqdm(trainloader):\n",
    "            images = images.to(device)\n",
    "            output_image = model(images)\n",
    "            optimizer.zero_grad()\n",
    "            loss = loss_fn(output_image, images)\n",
    "            loss.backward()\n",
    "            optimizer.step()\n",
    "            total_loss += loss.item()\n",
    "        avg_loss_train = total_loss / len(trainloader)\n",
    "        train_losses.append(avg_loss_train)\n",
    "\n",
    "        # valid loss\n",
    "\n",
    "        model.eval()\n",
    "        valid_loss = 0\n",
    "        with torch.no_grad():\n",
    "            for images, _ in tqdm(testloader):\n",
    "                images = images.to(device)\n",
    "                valid_output = model(images)\n",
    "                loss = loss_fn(valid_output,images)\n",
    "                valid_loss += loss.item()\n",
    "        avg_loss_valid = valid_loss / len(testloader)\n",
    "        valid_losses.append(avg_loss_valid)\n",
    "        print(f'Epoch {epoch+1}/{num_epochs}, Train Loss: {avg_loss_train:.4f}, Test Loss: {avg_loss_valid:.4f}')\n",
    "\n",
    "    return train_losses,valid_losses, model"
   ]
  },
  {
   "cell_type": "markdown",
   "metadata": {},
   "source": [
    "### 1. Auto-Encoder"
   ]
  },
  {
   "cell_type": "code",
   "execution_count": 8,
   "metadata": {},
   "outputs": [],
   "source": [
    "# define model\n",
    "class AutoEncoder(nn.Module):\n",
    "    def __init__(self, bottle_dim=2):\n",
    "        super(AutoEncoder, self).__init__()\n",
    "        # Encoder\n",
    "        self.encoder = nn.Sequential(\n",
    "            nn.Linear(28*28, 64),\n",
    "            nn.ReLU(),\n",
    "            nn.Linear(64, 32),\n",
    "            nn.ReLU(),\n",
    "            nn.Linear(32, bottle_dim), # Bottleneck with two neurons\n",
    "        )\n",
    "        # Decoder\n",
    "        self.decoder = nn.Sequential(\n",
    "            nn.Linear(bottle_dim, 32),\n",
    "            nn.ReLU(),\n",
    "            nn.Linear(32, 64),\n",
    "            nn.ReLU(),\n",
    "            nn.Linear(64, 28*28),\n",
    "            nn.Sigmoid() # Output is normalized to [0, 1]\n",
    "        )\n",
    "\n",
    "    def forward(self, x):\n",
    "        x_shape = x.shape\n",
    "        x = torch.flatten(x, start_dim=1)\n",
    "        # print(x.shape)\n",
    "        encoded = self.encoder(x)\n",
    "        decoded = self.decoder(encoded)\n",
    "\n",
    "        return decoded.reshape(x_shape)"
   ]
  },
  {
   "cell_type": "code",
   "execution_count": 7,
   "metadata": {},
   "outputs": [],
   "source": [
    "model = AutoEncoder().to(device)\n",
    "loss_fn = nn.MSELoss()\n",
    "optimizer = optim.Adam(model.parameters(), lr = lr)"
   ]
  },
  {
   "cell_type": "code",
   "execution_count": 8,
   "metadata": {},
   "outputs": [
    {
     "name": "stderr",
     "output_type": "stream",
     "text": [
      "100%|██████████| 1875/1875 [00:17<00:00, 105.25it/s]\n",
      "100%|██████████| 313/313 [00:01<00:00, 166.92it/s]\n"
     ]
    },
    {
     "name": "stdout",
     "output_type": "stream",
     "text": [
      "Epoch 1/10, Train Loss: 0.0392, Test Loss: 0.0314\n"
     ]
    },
    {
     "name": "stderr",
     "output_type": "stream",
     "text": [
      "100%|██████████| 1875/1875 [00:15<00:00, 122.59it/s]\n",
      "100%|██████████| 313/313 [00:01<00:00, 160.65it/s]\n"
     ]
    },
    {
     "name": "stdout",
     "output_type": "stream",
     "text": [
      "Epoch 2/10, Train Loss: 0.0306, Test Loss: 0.0298\n"
     ]
    },
    {
     "name": "stderr",
     "output_type": "stream",
     "text": [
      "100%|██████████| 1875/1875 [00:14<00:00, 128.82it/s]\n",
      "100%|██████████| 313/313 [00:01<00:00, 189.48it/s]\n"
     ]
    },
    {
     "name": "stdout",
     "output_type": "stream",
     "text": [
      "Epoch 3/10, Train Loss: 0.0296, Test Loss: 0.0292\n"
     ]
    },
    {
     "name": "stderr",
     "output_type": "stream",
     "text": [
      "100%|██████████| 1875/1875 [00:15<00:00, 122.17it/s]\n",
      "100%|██████████| 313/313 [00:02<00:00, 140.47it/s]\n"
     ]
    },
    {
     "name": "stdout",
     "output_type": "stream",
     "text": [
      "Epoch 4/10, Train Loss: 0.0289, Test Loss: 0.0287\n"
     ]
    },
    {
     "name": "stderr",
     "output_type": "stream",
     "text": [
      "100%|██████████| 1875/1875 [00:15<00:00, 122.98it/s]\n",
      "100%|██████████| 313/313 [00:01<00:00, 190.25it/s]\n"
     ]
    },
    {
     "name": "stdout",
     "output_type": "stream",
     "text": [
      "Epoch 5/10, Train Loss: 0.0284, Test Loss: 0.0282\n"
     ]
    },
    {
     "name": "stderr",
     "output_type": "stream",
     "text": [
      "100%|██████████| 1875/1875 [00:14<00:00, 127.46it/s]\n",
      "100%|██████████| 313/313 [00:01<00:00, 165.59it/s]\n"
     ]
    },
    {
     "name": "stdout",
     "output_type": "stream",
     "text": [
      "Epoch 6/10, Train Loss: 0.0281, Test Loss: 0.0283\n"
     ]
    },
    {
     "name": "stderr",
     "output_type": "stream",
     "text": [
      "100%|██████████| 1875/1875 [00:16<00:00, 113.80it/s]\n",
      "100%|██████████| 313/313 [00:02<00:00, 132.25it/s]\n"
     ]
    },
    {
     "name": "stdout",
     "output_type": "stream",
     "text": [
      "Epoch 7/10, Train Loss: 0.0278, Test Loss: 0.0277\n"
     ]
    },
    {
     "name": "stderr",
     "output_type": "stream",
     "text": [
      "100%|██████████| 1875/1875 [00:17<00:00, 107.39it/s]\n",
      "100%|██████████| 313/313 [00:02<00:00, 133.28it/s]\n"
     ]
    },
    {
     "name": "stdout",
     "output_type": "stream",
     "text": [
      "Epoch 8/10, Train Loss: 0.0275, Test Loss: 0.0274\n"
     ]
    },
    {
     "name": "stderr",
     "output_type": "stream",
     "text": [
      "100%|██████████| 1875/1875 [00:17<00:00, 110.21it/s]\n",
      "100%|██████████| 313/313 [00:01<00:00, 159.87it/s]\n"
     ]
    },
    {
     "name": "stdout",
     "output_type": "stream",
     "text": [
      "Epoch 9/10, Train Loss: 0.0273, Test Loss: 0.0273\n"
     ]
    },
    {
     "name": "stderr",
     "output_type": "stream",
     "text": [
      "100%|██████████| 1875/1875 [00:16<00:00, 111.89it/s]\n",
      "100%|██████████| 313/313 [00:02<00:00, 148.61it/s]"
     ]
    },
    {
     "name": "stdout",
     "output_type": "stream",
     "text": [
      "Epoch 10/10, Train Loss: 0.0271, Test Loss: 0.0270\n"
     ]
    },
    {
     "name": "stderr",
     "output_type": "stream",
     "text": [
      "\n"
     ]
    }
   ],
   "source": [
    "train_losses, valid_losses, trained_model = train(model, loss_fn, optimizer, epochs, trainloader, testloader)"
   ]
  },
  {
   "cell_type": "markdown",
   "metadata": {},
   "source": [
    "#### Plot Loss"
   ]
  },
  {
   "cell_type": "code",
   "execution_count": 10,
   "metadata": {},
   "outputs": [
    {
     "data": {
      "image/png": "[encoded data removed]",
      "text/plain": [
       "<Figure size 640x480 with 1 Axes>"
      ]
     },
     "metadata": {},
     "output_type": "display_data"
    },
    {
     "data": {
      "image/png": "[encoded data removed]",
      "text/plain": [
       "<Figure size 640x480 with 1 Axes>"
      ]
     },
     "metadata": {},
     "output_type": "display_data"
    }
   ],
   "source": [
    "plot_loss(train_losses, name = 'training')\n",
    "plot_loss(valid_losses, name = 'valid')"
   ]
  },
  {
   "cell_type": "markdown",
   "metadata": {},
   "source": [
    "#### Visual Evaluation"
   ]
  },
  {
   "cell_type": "code",
   "execution_count": 12,
   "metadata": {},
   "outputs": [
    {
     "data": {
      "image/png": "[encoded data removed]",
      "text/plain": [
       "<Figure size 2000x400 with 10 Axes>"
      ]
     },
     "metadata": {},
     "output_type": "display_data"
    }
   ],
   "source": [
    "# draw 10 randomly selected images: \n",
    "output_images = []\n",
    "trained_model.eval()\n",
    "with torch.no_grad():\n",
    "    for i in range(10):\n",
    "        rand_int = random.randint(0, len(testset)-1)\n",
    "        selected_image,_ = testset[rand_int]\n",
    "        selected_image = selected_image.to(device)\n",
    "        # plt.imshow(selected_image.squeeze(0))\n",
    "        output_image = trained_model(selected_image)\n",
    "        output_images.append(output_image)\n",
    "\n",
    "    plot_images(output_images)\n",
    "    \n",
    "    \n",
    "    "
   ]
  },
  {
   "cell_type": "markdown",
   "metadata": {},
   "source": [
    "### 2. Naive Generative Net"
   ]
  },
  {
   "cell_type": "markdown",
   "metadata": {},
   "source": [
    "#### 1. generate randomly"
   ]
  },
  {
   "cell_type": "code",
   "execution_count": 17,
   "metadata": {},
   "outputs": [],
   "source": [
    "# generate images \n",
    "def generate_image(input, model):\n",
    "    input = torch.tensor(input, dtype=torch.float32)\n",
    "    output = model.decoder(input).reshape(1,28,28)\n",
    "    return output"
   ]
  },
  {
   "cell_type": "code",
   "execution_count": 50,
   "metadata": {},
   "outputs": [],
   "source": [
    "def generate_norm_nums(num=10):\n",
    "    mean = np.array([0, 0])  # Mean vector\n",
    "    covariance_matrix = np.eye(2)  # Covariance matrix (identity matrix for standard normal distribution)\n",
    "\n",
    "    # Generate samples\n",
    "    num_samples = num \n",
    "    samples = np.random.multivariate_normal(mean, covariance_matrix, num_samples)\n",
    "    return samples"
   ]
  },
  {
   "cell_type": "code",
   "execution_count": 21,
   "metadata": {},
   "outputs": [
    {
     "name": "stdout",
     "output_type": "stream",
     "text": [
      "[[ 0.59886288  0.33176502]\n",
      " [ 0.6857675  -0.13992407]\n",
      " [-0.32327146 -0.83554053]\n",
      " [ 2.24541164  0.76338554]\n",
      " [ 0.32660059 -1.67133497]\n",
      " [ 0.39617883  1.83500299]\n",
      " [ 0.5744195  -1.4965082 ]\n",
      " [-1.4578571   0.4342719 ]\n",
      " [ 0.12995407  0.16491713]\n",
      " [-0.21136404 -1.40577233]]\n"
     ]
    }
   ],
   "source": [
    "rand_input = generate_nums()\n",
    "print(rand_input)\n"
   ]
  },
  {
   "cell_type": "code",
   "execution_count": 17,
   "metadata": {},
   "outputs": [
    {
     "data": {
      "image/png": "[encoded data removed]",
      "text/plain": [
       "<Figure size 2000x400 with 10 Axes>"
      ]
     },
     "metadata": {},
     "output_type": "display_data"
    }
   ],
   "source": [
    "plot_imgs = []\n",
    "for i in range(img_num):\n",
    "    output_img = generate_image(rand_input[i],trained_model.to('cpu'))\n",
    "    plot_imgs.append(output_img)\n",
    "plot_images(plot_imgs)"
   ]
  },
  {
   "cell_type": "markdown",
   "metadata": {},
   "source": [
    "#### 2. normalize bottleneck "
   ]
  },
  {
   "cell_type": "code",
   "execution_count": 12,
   "metadata": {},
   "outputs": [],
   "source": [
    "# define model with bottleneck normalization: \n",
    "\n",
    "class AutoEncoderNorm(nn.Module):\n",
    "    def __init__(self, bottle_dim=2):\n",
    "        super(AutoEncoderNorm, self).__init__()\n",
    "        # Encoder\n",
    "        self.encoder = nn.Sequential(\n",
    "            nn.Linear(28*28, 64),\n",
    "            nn.ReLU(),\n",
    "            nn.Linear(64, 32),\n",
    "            nn.ReLU(),\n",
    "            nn.Linear(32, bottle_dim), # Bottleneck with two neurons\n",
    "        )\n",
    "        self.bn = nn.BatchNorm1d(bottle_dim)\n",
    "        # Decoder\n",
    "        self.decoder = nn.Sequential(\n",
    "            nn.Linear(bottle_dim, 32),\n",
    "            nn.ReLU(),\n",
    "            nn.Linear(32, 64),\n",
    "            nn.ReLU(),\n",
    "            nn.Linear(64, 28*28),\n",
    "            nn.Sigmoid() # Output is normalized to [0, 1]\n",
    "        )\n",
    "\n",
    "    def forward(self, x):\n",
    "        x_shape = x.shape\n",
    "        x = torch.flatten(x, start_dim=1)\n",
    "        # print(x.shape)\n",
    "        encoded = self.encoder(x)\n",
    "        batched = self.bn(encoded)\n",
    "        decoded = self.decoder(batched)\n",
    "\n",
    "        return decoded.reshape(x_shape)"
   ]
  },
  {
   "cell_type": "code",
   "execution_count": 13,
   "metadata": {},
   "outputs": [
    {
     "name": "stderr",
     "output_type": "stream",
     "text": [
      "100%|██████████| 1875/1875 [00:12<00:00, 151.81it/s]\n",
      "100%|██████████| 313/313 [00:01<00:00, 200.26it/s]\n"
     ]
    },
    {
     "name": "stdout",
     "output_type": "stream",
     "text": [
      "Epoch 1/10, Train Loss: 0.0442, Test Loss: 0.0356\n"
     ]
    },
    {
     "name": "stderr",
     "output_type": "stream",
     "text": [
      "100%|██████████| 1875/1875 [00:14<00:00, 132.23it/s]\n",
      "100%|██████████| 313/313 [00:01<00:00, 199.73it/s]\n"
     ]
    },
    {
     "name": "stdout",
     "output_type": "stream",
     "text": [
      "Epoch 2/10, Train Loss: 0.0383, Test Loss: 0.0342\n"
     ]
    },
    {
     "name": "stderr",
     "output_type": "stream",
     "text": [
      "100%|██████████| 1875/1875 [00:14<00:00, 133.38it/s]\n",
      "100%|██████████| 313/313 [00:01<00:00, 197.18it/s]\n"
     ]
    },
    {
     "name": "stdout",
     "output_type": "stream",
     "text": [
      "Epoch 3/10, Train Loss: 0.0371, Test Loss: 0.0329\n"
     ]
    },
    {
     "name": "stderr",
     "output_type": "stream",
     "text": [
      "100%|██████████| 1875/1875 [00:14<00:00, 130.92it/s]\n",
      "100%|██████████| 313/313 [00:01<00:00, 196.76it/s]\n"
     ]
    },
    {
     "name": "stdout",
     "output_type": "stream",
     "text": [
      "Epoch 4/10, Train Loss: 0.0364, Test Loss: 0.0318\n"
     ]
    },
    {
     "name": "stderr",
     "output_type": "stream",
     "text": [
      "100%|██████████| 1875/1875 [00:14<00:00, 131.38it/s]\n",
      "100%|██████████| 313/313 [00:01<00:00, 201.67it/s]\n"
     ]
    },
    {
     "name": "stdout",
     "output_type": "stream",
     "text": [
      "Epoch 5/10, Train Loss: 0.0360, Test Loss: 0.0316\n"
     ]
    },
    {
     "name": "stderr",
     "output_type": "stream",
     "text": [
      "100%|██████████| 1875/1875 [00:14<00:00, 131.84it/s]\n",
      "100%|██████████| 313/313 [00:01<00:00, 197.40it/s]\n"
     ]
    },
    {
     "name": "stdout",
     "output_type": "stream",
     "text": [
      "Epoch 6/10, Train Loss: 0.0354, Test Loss: 0.0309\n"
     ]
    },
    {
     "name": "stderr",
     "output_type": "stream",
     "text": [
      "100%|██████████| 1875/1875 [00:14<00:00, 133.05it/s]\n",
      "100%|██████████| 313/313 [00:01<00:00, 200.02it/s]\n"
     ]
    },
    {
     "name": "stdout",
     "output_type": "stream",
     "text": [
      "Epoch 7/10, Train Loss: 0.0353, Test Loss: 0.0304\n"
     ]
    },
    {
     "name": "stderr",
     "output_type": "stream",
     "text": [
      "100%|██████████| 1875/1875 [00:14<00:00, 132.88it/s]\n",
      "100%|██████████| 313/313 [00:01<00:00, 199.41it/s]\n"
     ]
    },
    {
     "name": "stdout",
     "output_type": "stream",
     "text": [
      "Epoch 8/10, Train Loss: 0.0351, Test Loss: 0.0306\n"
     ]
    },
    {
     "name": "stderr",
     "output_type": "stream",
     "text": [
      "100%|██████████| 1875/1875 [00:14<00:00, 131.00it/s]\n",
      "100%|██████████| 313/313 [00:01<00:00, 171.86it/s]\n"
     ]
    },
    {
     "name": "stdout",
     "output_type": "stream",
     "text": [
      "Epoch 9/10, Train Loss: 0.0347, Test Loss: 0.0302\n"
     ]
    },
    {
     "name": "stderr",
     "output_type": "stream",
     "text": [
      "100%|██████████| 1875/1875 [00:14<00:00, 128.35it/s]\n",
      "100%|██████████| 313/313 [00:01<00:00, 193.27it/s]"
     ]
    },
    {
     "name": "stdout",
     "output_type": "stream",
     "text": [
      "Epoch 10/10, Train Loss: 0.0348, Test Loss: 0.0300\n"
     ]
    },
    {
     "name": "stderr",
     "output_type": "stream",
     "text": [
      "\n"
     ]
    }
   ],
   "source": [
    "model = AutoEncoderNorm().to(device)\n",
    "loss_fn = nn.MSELoss()\n",
    "optimizer = optim.Adam(model.parameters(), lr = lr)\n",
    "train_losses, valid_losses, trained_model = train(model, loss_fn, optimizer, epochs, trainloader, testloader)"
   ]
  },
  {
   "cell_type": "code",
   "execution_count": 14,
   "metadata": {},
   "outputs": [
    {
     "data": {
      "image/png": "[encoded data removed]",
      "text/plain": [
       "<Figure size 640x480 with 1 Axes>"
      ]
     },
     "metadata": {},
     "output_type": "display_data"
    },
    {
     "data": {
      "image/png": "[encoded data removed]",
      "text/plain": [
       "<Figure size 640x480 with 1 Axes>"
      ]
     },
     "metadata": {},
     "output_type": "display_data"
    }
   ],
   "source": [
    "plot_loss(train_losses, name = 'training')\n",
    "plot_loss(valid_losses, name = 'valid')"
   ]
  },
  {
   "cell_type": "code",
   "execution_count": 15,
   "metadata": {},
   "outputs": [
    {
     "data": {
      "image/png": "[encoded data removed]",
      "text/plain": [
       "<Figure size 2000x400 with 10 Axes>"
      ]
     },
     "metadata": {},
     "output_type": "display_data"
    }
   ],
   "source": [
    "output_images = []\n",
    "trained_model.eval()\n",
    "with torch.no_grad():\n",
    "    for i in range(10):\n",
    "        rand_int = random.randint(0, len(testset)-1)\n",
    "        selected_image,_ = testset[rand_int]\n",
    "        selected_image = selected_image.to(device)\n",
    "        # plt.imshow(selected_image.squeeze(0))\n",
    "        output_image = trained_model(selected_image)\n",
    "        output_images.append(output_image)\n",
    "\n",
    "    plot_images(output_images)\n",
    "    "
   ]
  },
  {
   "cell_type": "code",
   "execution_count": 21,
   "metadata": {},
   "outputs": [
    {
     "name": "stdout",
     "output_type": "stream",
     "text": [
      "[[ 1.4640431  -0.31822465]\n",
      " [ 0.859052   -0.95344357]\n",
      " [ 0.08278221 -0.26002204]\n",
      " [-0.62640952 -0.85359865]\n",
      " [-2.0814755  -0.65916293]\n",
      " [-0.89019548 -0.88384216]\n",
      " [-0.0990918   0.27822857]\n",
      " [-0.29251342  1.11379447]\n",
      " [ 1.65781526  2.10009257]\n",
      " [ 1.51241575 -0.27160369]]\n"
     ]
    }
   ],
   "source": [
    "# generate numbers: \n",
    "\n",
    "norm_input = generate_norm_nums()\n",
    "print(norm_input)\n"
   ]
  },
  {
   "cell_type": "code",
   "execution_count": 22,
   "metadata": {},
   "outputs": [
    {
     "data": {
      "image/png": "[encoded data removed]",
      "text/plain": [
       "<Figure size 2000x400 with 10 Axes>"
      ]
     },
     "metadata": {},
     "output_type": "display_data"
    }
   ],
   "source": [
    "plot_imgs = []\n",
    "for i in range(img_num):\n",
    "    output_img = generate_image(rand_input[i],trained_model.to('cpu'))\n",
    "    plot_imgs.append(output_img)\n",
    "plot_images(plot_imgs)"
   ]
  },
  {
   "cell_type": "markdown",
   "metadata": {},
   "source": [
    "3. A) and B) are different. images generated from B) is more clear than A). This is because the addition of normaliztion layer. When adding the normalization layer, the decoder is restricted to get input from 2-d vectors drawn from multi-variate standard normal distribution. Therefore, when randomly generate a 2-d vector drawn from the same distribution and pass it to the decoder, the decoder will perform better. "
   ]
  },
  {
   "cell_type": "markdown",
   "metadata": {},
   "source": [
    "### 3. Advanced Generative Net"
   ]
  },
  {
   "cell_type": "code",
   "execution_count": 6,
   "metadata": {},
   "outputs": [],
   "source": [
    "# define loss function for part 3: \n",
    "def loss_fn_VAE(recon_x, x, mu, log_var):\n",
    "    criterion = nn.MSELoss()\n",
    "    MSE = criterion(recon_x, x)\n",
    "    KLD = -0.5 * torch.sum(1 + log_var - mu.pow(2) - log_var.exp())\n",
    "    KLD/=batch_size*784\n",
    "    return MSE + KLD\n"
   ]
  },
  {
   "cell_type": "code",
   "execution_count": 42,
   "metadata": {},
   "outputs": [],
   "source": [
    "def generate_VAE_image(input, model, device = 'cpu'):\n",
    "    input = torch.tensor(input, dtype=torch.float32).to(device)\n",
    "    hidden = model.fc2(input.unsqueeze(0))\n",
    "    hidden = hidden.view(-1,128,7,7)\n",
    "    output = model.conv_decoder(hidden)\n",
    "    return output"
   ]
  },
  {
   "cell_type": "markdown",
   "metadata": {},
   "source": [
    "##### 1. VAE"
   ]
  },
  {
   "cell_type": "code",
   "execution_count": 25,
   "metadata": {},
   "outputs": [],
   "source": [
    "# define model\n",
    "class VAE(nn.Module):\n",
    "    def __init__(self, in_channels = 1, bottle_dim=2):\n",
    "        super(VAE, self).__init__()\n",
    "        # define encoder: \n",
    "        self.conv_encoder = nn.Sequential(\n",
    "            nn.Conv2d(in_channels, 32, 3, padding=1), # dim: 28 -> 28\n",
    "            nn.BatchNorm2d(32,momentum=0.9),\n",
    "            nn.ReLU(),\n",
    "            nn.Conv2d(32, 64, 3,2,padding=1), # dim: 28->14\n",
    "            nn.BatchNorm2d(64,momentum=0.9),\n",
    "            nn.ReLU(),\n",
    "            nn.Conv2d(64, 128, 3, 2, padding=1), # dim: 14->7\n",
    "            nn.BatchNorm2d(128,momentum=0.9),\n",
    "            nn.ReLU(),\n",
    "            )\n",
    "        self.fc1 = nn.Sequential( \n",
    "            nn.Linear(7*7*128, 256),\n",
    "            nn.BatchNorm1d(256,momentum=0.9),\n",
    "            nn.ReLU(),\n",
    "\n",
    "        )\n",
    "        self.fc2 = nn.Sequential(\n",
    "            nn.Linear(bottle_dim, 7*7*128),\n",
    "            nn.BatchNorm1d(7*7*128,momentum=0.9),\n",
    "            nn.ReLU(),\n",
    "\n",
    "        )\n",
    "        self.conv_decoder = nn.Sequential(\n",
    "            nn.ConvTranspose2d(128,64,3,2,padding=1, output_padding=1),\n",
    "            nn.BatchNorm2d(64,momentum=0.9),\n",
    "            nn.ReLU(),\n",
    "            nn.ConvTranspose2d(64,32,3,2,padding=1, output_padding=1),\n",
    "            nn.BatchNorm2d(32,momentum=0.9),\n",
    "            nn.ReLU(),\n",
    "            nn.ConvTranspose2d(32, in_channels, 3,padding=1),\n",
    "            nn.Sigmoid()\n",
    "        )\n",
    "        self.mu = nn.Linear(256, bottle_dim)\n",
    "        self.log_var = nn.Linear(256,bottle_dim)\n",
    "    def reparameterize(self, mu, log_var):\n",
    "        std = torch.exp(0.5 * log_var)\n",
    "        random_noise = torch.randn_like(std)\n",
    "        return mu + random_noise * std\n",
    "    def forward(self,x):\n",
    "        batch_s = x.size()[0]\n",
    "        encoded = self.conv_encoder(x) # dim: 7*7*256\n",
    "        # encoded_shape = encoded.shape\n",
    "        latent = encoded.view(batch_s,-1)\n",
    "        latent = self.fc1(latent) \n",
    "        # output dimension: batch * 256\n",
    "        mu = self.mu(latent)\n",
    "        log_var = self.log_var(latent)\n",
    "        hidden = self.reparameterize(mu, log_var)\n",
    "        # output dim: batch*bottle_dim\n",
    "        hidden = self.fc2(hidden)\n",
    "        hidden = hidden.view(-1,128,7,7)\n",
    "        decoded = self.conv_decoder(hidden)\n",
    "        return decoded, mu, log_var #, encoded_shape\n",
    "        "
   ]
  },
  {
   "cell_type": "code",
   "execution_count": 33,
   "metadata": {},
   "outputs": [],
   "source": [
    "# define training function for part 3: \n",
    "def train_VAE(model, optimizer, trainloader, testloader, num_epochs=20):\n",
    "    train_losses = []\n",
    "    valid_losses = []\n",
    "    \n",
    "    for epoch in range(num_epochs):\n",
    "        model.train()\n",
    "        total_loss = 0\n",
    "        for images, _ in tqdm(trainloader):\n",
    "            images = images.to(device)\n",
    "            decoded, mu, log_var= model(images)\n",
    "            loss = loss_fn_VAE(decoded, images, mu, log_var)\n",
    "            optimizer.zero_grad()\n",
    "            loss.backward()\n",
    "            optimizer.step()\n",
    "            total_loss += loss.item()\n",
    "        avg_loss_train = total_loss / len(trainloader)\n",
    "        train_losses.append(avg_loss_train)\n",
    "\n",
    "        # valid loss\n",
    "\n",
    "        model.eval()\n",
    "        valid_loss = 0\n",
    "        with torch.no_grad():\n",
    "            for images, _ in tqdm(testloader):\n",
    "                images = images.to(device)\n",
    "                decoded, mu, log_var = model(images)\n",
    "                loss = loss_fn_VAE(decoded,images, mu, log_var)\n",
    "                valid_loss += loss.item()\n",
    "        avg_loss_valid = valid_loss / len(testloader)\n",
    "        valid_losses.append(avg_loss_valid)\n",
    "        print(f'Epoch {epoch+1}/{num_epochs}, Train Loss: {avg_loss_train:.4f}, Test Loss: {avg_loss_valid:.4f}')\n",
    "\n",
    "    return train_losses,valid_losses, model\n",
    "    "
   ]
  },
  {
   "cell_type": "code",
   "execution_count": 34,
   "metadata": {},
   "outputs": [
    {
     "name": "stderr",
     "output_type": "stream",
     "text": [
      "  0%|          | 0/1875 [00:00<?, ?it/s]"
     ]
    },
    {
     "name": "stderr",
     "output_type": "stream",
     "text": [
      "100%|██████████| 1875/1875 [00:23<00:00, 81.14it/s]\n",
      "100%|██████████| 313/313 [00:02<00:00, 139.27it/s]\n"
     ]
    },
    {
     "name": "stdout",
     "output_type": "stream",
     "text": [
      "Epoch 1/20, Train Loss: 0.0901, Test Loss: 0.0539\n"
     ]
    },
    {
     "name": "stderr",
     "output_type": "stream",
     "text": [
      "100%|██████████| 1875/1875 [00:22<00:00, 84.92it/s]\n",
      "100%|██████████| 313/313 [00:02<00:00, 156.13it/s]\n"
     ]
    },
    {
     "name": "stdout",
     "output_type": "stream",
     "text": [
      "Epoch 2/20, Train Loss: 0.0507, Test Loss: 0.0476\n"
     ]
    },
    {
     "name": "stderr",
     "output_type": "stream",
     "text": [
      "100%|██████████| 1875/1875 [00:20<00:00, 90.09it/s]\n",
      "100%|██████████| 313/313 [00:02<00:00, 151.76it/s]\n"
     ]
    },
    {
     "name": "stdout",
     "output_type": "stream",
     "text": [
      "Epoch 3/20, Train Loss: 0.0461, Test Loss: 0.0478\n"
     ]
    },
    {
     "name": "stderr",
     "output_type": "stream",
     "text": [
      "100%|██████████| 1875/1875 [00:27<00:00, 68.37it/s]\n",
      "100%|██████████| 313/313 [00:03<00:00, 91.43it/s]\n"
     ]
    },
    {
     "name": "stdout",
     "output_type": "stream",
     "text": [
      "Epoch 4/20, Train Loss: 0.0443, Test Loss: 0.0422\n"
     ]
    },
    {
     "name": "stderr",
     "output_type": "stream",
     "text": [
      "100%|██████████| 1875/1875 [00:27<00:00, 67.02it/s] \n",
      "100%|██████████| 313/313 [00:01<00:00, 173.02it/s]\n"
     ]
    },
    {
     "name": "stdout",
     "output_type": "stream",
     "text": [
      "Epoch 5/20, Train Loss: 0.0432, Test Loss: 0.0455\n"
     ]
    },
    {
     "name": "stderr",
     "output_type": "stream",
     "text": [
      "100%|██████████| 1875/1875 [00:18<00:00, 98.91it/s] \n",
      "100%|██████████| 313/313 [00:01<00:00, 170.39it/s]\n"
     ]
    },
    {
     "name": "stdout",
     "output_type": "stream",
     "text": [
      "Epoch 6/20, Train Loss: 0.0427, Test Loss: 0.0410\n"
     ]
    },
    {
     "name": "stderr",
     "output_type": "stream",
     "text": [
      "100%|██████████| 1875/1875 [00:19<00:00, 95.00it/s] \n",
      "100%|██████████| 313/313 [00:01<00:00, 161.58it/s]\n"
     ]
    },
    {
     "name": "stdout",
     "output_type": "stream",
     "text": [
      "Epoch 7/20, Train Loss: 0.0423, Test Loss: 0.0447\n"
     ]
    },
    {
     "name": "stderr",
     "output_type": "stream",
     "text": [
      "100%|██████████| 1875/1875 [00:18<00:00, 98.85it/s] \n",
      "100%|██████████| 313/313 [00:01<00:00, 169.19it/s]\n"
     ]
    },
    {
     "name": "stdout",
     "output_type": "stream",
     "text": [
      "Epoch 8/20, Train Loss: 0.0418, Test Loss: 0.0456\n"
     ]
    },
    {
     "name": "stderr",
     "output_type": "stream",
     "text": [
      "100%|██████████| 1875/1875 [00:19<00:00, 94.18it/s] \n",
      "100%|██████████| 313/313 [00:02<00:00, 147.87it/s]\n"
     ]
    },
    {
     "name": "stdout",
     "output_type": "stream",
     "text": [
      "Epoch 9/20, Train Loss: 0.0414, Test Loss: 0.0417\n"
     ]
    },
    {
     "name": "stderr",
     "output_type": "stream",
     "text": [
      "100%|██████████| 1875/1875 [00:20<00:00, 93.23it/s] \n",
      "100%|██████████| 313/313 [00:01<00:00, 171.09it/s]\n"
     ]
    },
    {
     "name": "stdout",
     "output_type": "stream",
     "text": [
      "Epoch 10/20, Train Loss: 0.0412, Test Loss: 0.0395\n"
     ]
    },
    {
     "name": "stderr",
     "output_type": "stream",
     "text": [
      "100%|██████████| 1875/1875 [00:18<00:00, 98.96it/s] \n",
      "100%|██████████| 313/313 [00:01<00:00, 166.44it/s]\n"
     ]
    },
    {
     "name": "stdout",
     "output_type": "stream",
     "text": [
      "Epoch 11/20, Train Loss: 0.0407, Test Loss: 0.0425\n"
     ]
    },
    {
     "name": "stderr",
     "output_type": "stream",
     "text": [
      "100%|██████████| 1875/1875 [00:19<00:00, 96.73it/s]\n",
      "100%|██████████| 313/313 [00:01<00:00, 160.90it/s]\n"
     ]
    },
    {
     "name": "stdout",
     "output_type": "stream",
     "text": [
      "Epoch 12/20, Train Loss: 0.0406, Test Loss: 0.0406\n"
     ]
    },
    {
     "name": "stderr",
     "output_type": "stream",
     "text": [
      "100%|██████████| 1875/1875 [00:19<00:00, 95.02it/s]\n",
      "100%|██████████| 313/313 [00:01<00:00, 161.47it/s]\n"
     ]
    },
    {
     "name": "stdout",
     "output_type": "stream",
     "text": [
      "Epoch 13/20, Train Loss: 0.0403, Test Loss: 0.0381\n"
     ]
    },
    {
     "name": "stderr",
     "output_type": "stream",
     "text": [
      "100%|██████████| 1875/1875 [00:19<00:00, 95.59it/s]\n",
      "100%|██████████| 313/313 [00:01<00:00, 157.42it/s]\n"
     ]
    },
    {
     "name": "stdout",
     "output_type": "stream",
     "text": [
      "Epoch 14/20, Train Loss: 0.0401, Test Loss: 0.0387\n"
     ]
    },
    {
     "name": "stderr",
     "output_type": "stream",
     "text": [
      "100%|██████████| 1875/1875 [00:21<00:00, 88.64it/s]\n",
      "100%|██████████| 313/313 [00:02<00:00, 151.78it/s]\n"
     ]
    },
    {
     "name": "stdout",
     "output_type": "stream",
     "text": [
      "Epoch 15/20, Train Loss: 0.0399, Test Loss: 0.0376\n"
     ]
    },
    {
     "name": "stderr",
     "output_type": "stream",
     "text": [
      "100%|██████████| 1875/1875 [00:21<00:00, 86.10it/s]\n",
      "100%|██████████| 313/313 [00:02<00:00, 136.16it/s]\n"
     ]
    },
    {
     "name": "stdout",
     "output_type": "stream",
     "text": [
      "Epoch 16/20, Train Loss: 0.0397, Test Loss: 0.0389\n"
     ]
    },
    {
     "name": "stderr",
     "output_type": "stream",
     "text": [
      "100%|██████████| 1875/1875 [00:21<00:00, 86.72it/s]\n",
      "100%|██████████| 313/313 [00:02<00:00, 138.95it/s]\n"
     ]
    },
    {
     "name": "stdout",
     "output_type": "stream",
     "text": [
      "Epoch 17/20, Train Loss: 0.0397, Test Loss: 0.0393\n"
     ]
    },
    {
     "name": "stderr",
     "output_type": "stream",
     "text": [
      "100%|██████████| 1875/1875 [00:22<00:00, 82.99it/s]\n",
      "100%|██████████| 313/313 [00:02<00:00, 133.59it/s]\n"
     ]
    },
    {
     "name": "stdout",
     "output_type": "stream",
     "text": [
      "Epoch 18/20, Train Loss: 0.0396, Test Loss: 0.0421\n"
     ]
    },
    {
     "name": "stderr",
     "output_type": "stream",
     "text": [
      "100%|██████████| 1875/1875 [00:21<00:00, 87.22it/s]\n",
      "100%|██████████| 313/313 [00:02<00:00, 155.30it/s]\n"
     ]
    },
    {
     "name": "stdout",
     "output_type": "stream",
     "text": [
      "Epoch 19/20, Train Loss: 0.0394, Test Loss: 0.0374\n"
     ]
    },
    {
     "name": "stderr",
     "output_type": "stream",
     "text": [
      "100%|██████████| 1875/1875 [00:20<00:00, 92.92it/s]\n",
      "100%|██████████| 313/313 [00:02<00:00, 155.48it/s]"
     ]
    },
    {
     "name": "stdout",
     "output_type": "stream",
     "text": [
      "Epoch 20/20, Train Loss: 0.0393, Test Loss: 0.0375\n"
     ]
    },
    {
     "name": "stderr",
     "output_type": "stream",
     "text": [
      "\n"
     ]
    }
   ],
   "source": [
    "# defince model and configs\n",
    "model_VAE = VAE().to(device)\n",
    "optimizer = optim.Adam(model_VAE.parameters(), lr = 1e-5)\n",
    "train_losses, valid_losses, trained_model = train_VAE(model_VAE, optimizer, trainloader, testloader)"
   ]
  },
  {
   "cell_type": "code",
   "execution_count": 56,
   "metadata": {},
   "outputs": [
    {
     "name": "stdout",
     "output_type": "stream",
     "text": [
      "[[-0.69723777 -0.42427265]\n",
      " [-0.30523351 -0.87435817]\n",
      " [ 1.7809977   0.54332961]\n",
      " [-1.59168617  0.74610887]\n",
      " [ 1.15505797 -0.51771755]\n",
      " [ 0.57965833  0.76277957]\n",
      " [ 0.30876477 -0.60766888]\n",
      " [-0.43013751 -0.08981339]\n",
      " [ 1.00790122  0.88548555]\n",
      " [-0.04089743 -0.68661904]]\n"
     ]
    }
   ],
   "source": [
    "\n",
    "rand_input = generate_norm_nums()\n",
    "print(rand_input)"
   ]
  },
  {
   "cell_type": "code",
   "execution_count": 57,
   "metadata": {},
   "outputs": [
    {
     "data": {
      "image/png": "[encoded data removed]",
      "text/plain": [
       "<Figure size 2000x400 with 10 Axes>"
      ]
     },
     "metadata": {},
     "output_type": "display_data"
    }
   ],
   "source": [
    "plot_imgs = []\n",
    "for i in range(img_num):\n",
    "    output_img = generate_VAE_image(rand_input[i],trained_model.to('cpu'))\n",
    "    plot_imgs.append(output_img.squeeze(0))\n",
    "plot_images(plot_imgs)"
   ]
  },
  {
   "cell_type": "markdown",
   "metadata": {},
   "source": [
    "##### 2. VAE-GAN"
   ]
  },
  {
   "cell_type": "code",
   "execution_count": 6,
   "metadata": {},
   "outputs": [],
   "source": [
    "class Discriminator(nn.Module):\n",
    "    def __init__(self, in_channels=1, class_num=1):\n",
    "        super(Discriminator, self).__init__()\n",
    "        self.conv_layer = nn.Sequential(\n",
    "            nn.Conv2d(in_channels, 32,kernel_size=5, padding=2, stride=1),\n",
    "            nn.ReLU(),\n",
    "            nn.Conv2d(32, 128, kernel_size=5,stride=2, padding=2), # 28->14\n",
    "            nn.BatchNorm2d(128,momentum=0.9),\n",
    "            nn.ReLU(),\n",
    "            nn.Conv2d(128, 256, kernel_size=5, padding=2, stride=2), # 14->7\n",
    "            nn.BatchNorm2d(256,momentum=0.9),\n",
    "            nn.ReLU(),\n",
    "            nn.Conv2d(256,256, 5,stride=1,padding=2),\n",
    "            nn.BatchNorm2d(256),\n",
    "            nn.ReLU()\n",
    "            # output dim: 7*7*256\n",
    "        )\n",
    "        self.fc_layer = nn.Sequential(\n",
    "            nn.Linear(7*7*256, 512),\n",
    "            nn.BatchNorm1d(512,momentum=0.9),\n",
    "            nn.ReLU(),\n",
    "            nn.Linear(512,class_num)\n",
    "        )\n",
    "        self.sigmoid = nn.Sigmoid()\n",
    "    def forward(self, x):\n",
    "        x = self.conv_layer(x) # dim: 7*7*256\n",
    "        x = x.view(-1, 7*7*256)\n",
    "        x1 = x\n",
    "        x = self.fc_layer(x)\n",
    "        x = self.sigmoid(x)\n",
    "        return x,x1"
   ]
  },
  {
   "cell_type": "code",
   "execution_count": 7,
   "metadata": {},
   "outputs": [],
   "source": [
    "class Encoder(nn.Module):\n",
    "    def __init__(self, in_channels=1, bottle_dim=2):\n",
    "        super(Encoder,self).__init__()\n",
    "        self.conv1=nn.Conv2d(in_channels, 32, 3, padding=1)   #in_channels=1\n",
    "        self.bn1=nn.BatchNorm2d(32,momentum=0.9)\n",
    "        self.conv2=nn.Conv2d(32, 64, 3,2,padding=1)\n",
    "        self.bn2=nn.BatchNorm2d(64,momentum=0.9)\n",
    "        self.conv3=nn.Conv2d(64, 128, 3, 2, padding=1)\n",
    "        self.bn3=nn.BatchNorm2d(128,momentum=0.9)\n",
    "        self.relu=nn.ReLU()\n",
    "        self.fc1=nn.Linear(128*7*7,256)\n",
    "        self.bn4=nn.BatchNorm1d(256,momentum=0.9)\n",
    "        self.fc_mean=nn.Linear(256,bottle_dim)\n",
    "        self.fc_logvar=nn.Linear(256,bottle_dim)   #latent dim=2\n",
    "    def forward(self,x):\n",
    "        batch_size=x.size()[0]\n",
    "        out=self.relu(self.bn1(self.conv1(x)))\n",
    "        out=self.relu(self.bn2(self.conv2(out)))\n",
    "        out=self.relu(self.bn3(self.conv3(out)))\n",
    "        out=out.view(batch_size,-1)\n",
    "        out=self.relu(self.bn4(self.fc1(out)))\n",
    "        mean=self.fc_mean(out)\n",
    "        logvar=self.fc_logvar(out)\n",
    "\n",
    "        return mean,logvar"
   ]
  },
  {
   "cell_type": "code",
   "execution_count": 8,
   "metadata": {},
   "outputs": [],
   "source": [
    "class Decoder(nn.Module):\n",
    "  def __init__(self, out_channels=1, bottle_dim=2 ):\n",
    "    super(Decoder,self).__init__()\n",
    "    self.fc1=nn.Linear(bottle_dim,7*7*128)\n",
    "    self.bn1=nn.BatchNorm1d(7*7*128,momentum=0.9)\n",
    "    self.relu=nn.ReLU()\n",
    "    self.deconv1=nn.ConvTranspose2d(128,64,6, stride=2, padding=2) # 7->14\n",
    "    self.bn2=nn.BatchNorm2d(64,momentum=0.9)\n",
    "    self.deconv2=nn.ConvTranspose2d(64,32,6, stride=2, padding=2) # 14->28\n",
    "    self.bn3=nn.BatchNorm2d(32,momentum=0.9)\n",
    "    self.deconv4=nn.ConvTranspose2d(32,out_channels,5, stride=1, padding=2) # 28->28\n",
    "    self.sigmoid=nn.Sigmoid()\n",
    "\n",
    "  def forward(self,x):\n",
    "    x=self.relu(self.bn1(self.fc1(x)))\n",
    "    x=x.view(-1,128,7,7)\n",
    "    x=self.relu(self.bn2(self.deconv1(x)))\n",
    "    x=self.relu(self.bn3(self.deconv2(x)))\n",
    "    x=self.sigmoid(self.deconv4(x))\n",
    "    return x"
   ]
  },
  {
   "cell_type": "code",
   "execution_count": 9,
   "metadata": {},
   "outputs": [],
   "source": [
    "class VAE_GAN(nn.Module):\n",
    "    def __init__(self, bottle_dim=2):\n",
    "        super(VAE_GAN,self).__init__()\n",
    "        self.bottle_dim = bottle_dim\n",
    "        self.encoder=Encoder()\n",
    "        self.decoder=Decoder()\n",
    "        self.discriminator=Discriminator()\n",
    "\n",
    "\n",
    "    def forward(self,x):\n",
    "        batch_size = x.size()[0]\n",
    "        z_mean, z_logvar=self.encoder(x)\n",
    "        std = torch.exp(0.5 * z_logvar)\n",
    "            \n",
    "        #sampling epsilon from normal distribution\n",
    "        epsilon=torch.randn(batch_size,self.bottle_dim).to(device)\n",
    "        z=z_mean+std*epsilon\n",
    "        x_tilda=self.decoder(z)\n",
    "        \n",
    "        return z_mean,z_logvar,x_tilda"
   ]
  },
  {
   "cell_type": "code",
   "execution_count": 18,
   "metadata": {},
   "outputs": [],
   "source": [
    "gen=VAE_GAN().to(device)\n",
    "discrim=Discriminator().to(device)"
   ]
  },
  {
   "cell_type": "code",
   "execution_count": 20,
   "metadata": {},
   "outputs": [],
   "source": [
    "epochs=5\n",
    "lr=3e-4\n",
    "alpha=0.1\n",
    "gamma=15\n",
    "batch_size = 32"
   ]
  },
  {
   "cell_type": "code",
   "execution_count": 11,
   "metadata": {},
   "outputs": [
    {
     "data": {
      "text/plain": [
       "2"
      ]
     },
     "execution_count": 11,
     "metadata": {},
     "output_type": "execute_result"
    }
   ],
   "source": [
    "len(next(iter(trainloader)))"
   ]
  },
  {
   "cell_type": "code",
   "execution_count": 21,
   "metadata": {},
   "outputs": [],
   "source": [
    "criterion=nn.BCELoss().to(device)\n",
    "optim_E=optim.RMSprop(gen.encoder.parameters(), lr=lr)\n",
    "optim_D=optim.RMSprop(gen.decoder.parameters(), lr=lr)\n",
    "optim_Dis=optim.RMSprop(discrim.parameters(), lr=lr*alpha)\n",
    "# z_fixed=torch.randn((64,128)).to(device)\n",
    "# x_fixed=Variable(real_batch[0]).to(device)"
   ]
  },
  {
   "cell_type": "code",
   "execution_count": 22,
   "metadata": {},
   "outputs": [
    {
     "name": "stderr",
     "output_type": "stream",
     "text": [
      "100%|██████████| 1875/1875 [02:08<00:00, 14.54it/s]\n"
     ]
    },
    {
     "name": "stdout",
     "output_type": "stream",
     "text": [
      "1/5\tLoss_gan: 0.7249\n"
     ]
    },
    {
     "name": "stderr",
     "output_type": "stream",
     "text": [
      "100%|██████████| 1875/1875 [02:39<00:00, 11.76it/s]\n"
     ]
    },
    {
     "name": "stdout",
     "output_type": "stream",
     "text": [
      "2/5\tLoss_gan: 0.1776\n"
     ]
    },
    {
     "name": "stderr",
     "output_type": "stream",
     "text": [
      "100%|██████████| 1875/1875 [03:08<00:00,  9.93it/s]\n"
     ]
    },
    {
     "name": "stdout",
     "output_type": "stream",
     "text": [
      "3/5\tLoss_gan: 0.0936\n"
     ]
    },
    {
     "name": "stderr",
     "output_type": "stream",
     "text": [
      "100%|██████████| 1875/1875 [03:13<00:00,  9.68it/s]\n"
     ]
    },
    {
     "name": "stdout",
     "output_type": "stream",
     "text": [
      "4/5\tLoss_gan: 0.0647\n"
     ]
    },
    {
     "name": "stderr",
     "output_type": "stream",
     "text": [
      "100%|██████████| 1875/1875 [03:13<00:00,  9.69it/s]"
     ]
    },
    {
     "name": "stdout",
     "output_type": "stream",
     "text": [
      "5/5\tLoss_gan: 0.0388\n"
     ]
    },
    {
     "name": "stderr",
     "output_type": "stream",
     "text": [
      "\n"
     ]
    }
   ],
   "source": [
    "#train \n",
    "for epoch in range(epochs):\n",
    "  total_gan_loss = 0\n",
    "  for image, _ in tqdm(trainloader):\n",
    "    batch_s=image.size()[0]\n",
    "    \n",
    "    real_label=torch.ones(batch_s,1).to(device)\n",
    "    fake_label=torch.zeros(batch_s,1).to(device)\n",
    "    image = image.to(device)\n",
    "    mean, logvar, generated_img = gen(image)\n",
    "    z_p = torch.randn(32,bottleneck_num).to(device)\n",
    "    x_p_tilda = gen.decoder(z_p)\n",
    "\n",
    "    output = discrim(image)[0]\n",
    "    errD_real = criterion(output, real_label)\n",
    "    output= discrim(generated_img)[0]\n",
    "    errD_rec_enc = criterion(output, fake_label)\n",
    "    output= discrim(x_p_tilda)[0]\n",
    "    errD_rec_noise = criterion(output, fake_label)\n",
    "    gan_loss = errD_real + errD_rec_enc + errD_rec_noise\n",
    "    optim_Dis.zero_grad()\n",
    "    gan_loss.backward(retain_graph=True)\n",
    "    optim_Dis.step()\n",
    "\n",
    "\n",
    "    output = discrim(image)[0]\n",
    "    errD_real = criterion(output, real_label)\n",
    "    output = discrim(generated_img)[0]\n",
    "    errD_rec_enc = criterion(output, fake_label)\n",
    "    output = discrim(x_p_tilda)[0]\n",
    "    errD_rec_noise = criterion(output, fake_label)\n",
    "    gan_loss = errD_real + errD_rec_enc + errD_rec_noise\n",
    "    \n",
    "\n",
    "    x_l_tilda = discrim(generated_img)[1]\n",
    "    x_l = discrim(image)[1]\n",
    "    rec_loss = ((x_l_tilda - x_l) ** 2).mean()\n",
    "    err_dec = gamma * rec_loss - gan_loss \n",
    "    optim_D.zero_grad()\n",
    "    err_dec.backward(retain_graph=True)\n",
    "    optim_D.step()\n",
    "    \n",
    "    mean, logvar, generated_img = gen(image)\n",
    "    x_l_tilda = discrim(generated_img)[1]\n",
    "    x_l = discrim(image)[1]\n",
    "    rec_loss = ((x_l_tilda - x_l) ** 2).mean()\n",
    "    prior_loss = 1 + logvar - mean.pow(2) - logvar.exp()\n",
    "    prior_loss = (-0.5 * torch.sum(prior_loss))/torch.numel(mean.data)\n",
    "    err_enc = prior_loss + 5*rec_loss\n",
    "\n",
    "    optim_E.zero_grad()\n",
    "    err_enc.backward(retain_graph=True)\n",
    "    optim_E.step()\n",
    "    total_gan_loss += gan_loss.item()\n",
    "  avg_gan_loss = total_gan_loss/len(trainloader)  \n",
    "  print(f'{epoch+1}/{epochs}\\tLoss_gan: {avg_gan_loss:.4f}')\n"
   ]
  },
  {
   "cell_type": "code",
   "execution_count": 24,
   "metadata": {},
   "outputs": [
    {
     "data": {
      "image/png": "[encoded data removed]",
      "text/plain": [
       "<Figure size 2000x400 with 30 Axes>"
      ]
     },
     "metadata": {},
     "output_type": "display_data"
    }
   ],
   "source": [
    "''' visualization: \n",
    "first row: randomly generated image \n",
    "second row: original image\n",
    "third row: corresponding reconstructed image from second row\n",
    "'''\n",
    "gen.eval()\n",
    "indices = random.sample(range(len(testset)),10)\n",
    "images = torch.stack([testset[i][0] for i in indices]).to(device)\n",
    "z_p = torch.randn(10,bottleneck_num).to(device)\n",
    "with torch.no_grad():\n",
    "    _,_,out_img = gen(images)\n",
    "    x_p_tilda = gen.decoder(z_p)\n",
    "images = images.cpu().numpy()\n",
    "out_img = out_img.cpu().numpy()\n",
    "x_p_tilda = x_p_tilda.cpu().numpy()\n",
    "\n",
    "fig, axs = plt.subplots(3, 10, figsize=(20, 4))\n",
    "for i in range(10):\n",
    "    axs[0, i].imshow(x_p_tilda[i].squeeze(0), cmap='gray')\n",
    "    axs[0, i].axis('off')\n",
    "    axs[1, i].imshow(images[i].squeeze(0), cmap='gray')\n",
    "    axs[1, i].axis('off')\n",
    "    axs[2, i].imshow(out_img[i].squeeze(0), cmap='gray')\n",
    "    axs[2, i].axis('off')\n",
    "\n",
    "plt.show()"
   ]
  }
 ],
 "metadata": {
  "kernelspec": {
   "display_name": "Python 3",
   "language": "python",
   "name": "python3"
  },
  "language_info": {
   "codemirror_mode": {
    "name": "ipython",
    "version": 3
   },
   "file_extension": ".py",
   "mimetype": "text/x-python",
   "name": "python",
   "nbconvert_exporter": "python",
   "pygments_lexer": "ipython3",
   "version": "3.12.2"
  }
 },
 "nbformat": 4,
 "nbformat_minor": 2
}
